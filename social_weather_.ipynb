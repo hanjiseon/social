{
 "cells": [
  {
   "cell_type": "markdown",
   "metadata": {},
   "source": [
    "# 날씨 데이터 스크래핑"
   ]
  },
  {
   "cell_type": "code",
   "execution_count": 5,
   "metadata": {},
   "outputs": [
    {
     "name": "stdout",
     "output_type": "stream",
     "text": [
      "<div class=\"tombstone-container\">\n",
      " <p class=\"period-name\">\n",
      "  Overnight\n",
      "  <br/>\n",
      "  <br/>\n",
      " </p>\n",
      " <p>\n",
      "  <img alt=\"Overnight: Mostly clear, with a low around 50. North wind around 6 mph becoming calm. \" class=\"forecast-icon\" src=\"newimages/medium/nfew.png\" title=\"Overnight: Mostly clear, with a low around 50. North wind around 6 mph becoming calm. \"/>\n",
      " </p>\n",
      " <p class=\"short-desc\">\n",
      "  Mostly Clear\n",
      " </p>\n",
      " <p class=\"temp temp-low\">\n",
      "  Low: 50 °F\n",
      " </p>\n",
      "</div>\n"
     ]
    }
   ],
   "source": [
    "import requests\n",
    "\n",
    "from  bs4 import BeautifulSoup\n",
    "soup = BeautifulSoup(page.content, 'html.parser')\n",
    "\n",
    "page = requests.get(\"https://forecast.weather.gov/MapClick.php?lat=37.7772&lon=-122.4168\")\n",
    "soup = BeautifulSoup(page.content, 'html.parser')\n",
    "seven_day = soup.find(id=\"seven-day-forecast\")\n",
    "forecast_items = seven_day.find_all(class_=\"tombstone-container\")\n",
    "tonight = forecast_items[0]\n",
    "print(tonight.prettify())"
   ]
  },
  {
   "cell_type": "code",
   "execution_count": 7,
   "metadata": {},
   "outputs": [
    {
     "name": "stdout",
     "output_type": "stream",
     "text": [
      "Overnight\n",
      "Mostly Clear\n",
      "Low: 50 °F\n"
     ]
    }
   ],
   "source": [
    "period = tonight.find(class_=\"period-name\").get_text()\n",
    "short_desc = tonight.find(class_=\"short-desc\").get_text()\n",
    "temp = tonight.find(class_=\"temp\").get_text()\n",
    "print(period)\n",
    "print(short_desc)\n",
    "print(temp)"
   ]
  },
  {
   "cell_type": "code",
   "execution_count": 10,
   "metadata": {},
   "outputs": [
    {
     "name": "stdout",
     "output_type": "stream",
     "text": [
      "Overnight: Mostly clear, with a low around 50. North wind around 6 mph becoming calm. \n"
     ]
    }
   ],
   "source": [
    "img = tonight.find(\"img\")\n",
    "desc = img['title']\n",
    "print(desc)"
   ]
  },
  {
   "cell_type": "markdown",
   "metadata": {},
   "source": [
    "모든 정보 추출하기"
   ]
  },
  {
   "cell_type": "code",
   "execution_count": 12,
   "metadata": {},
   "outputs": [
    {
     "data": {
      "text/plain": [
       "['Overnight',\n",
       " 'Wednesday',\n",
       " 'WednesdayNight',\n",
       " 'Thursday',\n",
       " 'ThursdayNight',\n",
       " 'Friday',\n",
       " 'FridayNight',\n",
       " 'Saturday',\n",
       " 'SaturdayNight']"
      ]
     },
     "execution_count": 12,
     "metadata": {},
     "output_type": "execute_result"
    }
   ],
   "source": [
    "period_tags = seven_day.select(\".tombstone-container .period-name\")\n",
    "periods = [pt.get_text() for pt in period_tags]\n",
    "periods"
   ]
  },
  {
   "cell_type": "code",
   "execution_count": 15,
   "metadata": {},
   "outputs": [
    {
     "name": "stdout",
     "output_type": "stream",
     "text": [
      "['Mostly Clear', 'Sunny', 'Clear', 'Sunny', 'Mostly Clear', 'Mostly Sunny', 'Mostly Clear', 'Sunny', 'Clear']\n",
      "['Low: 50 °F', 'High: 78 °F', 'Low: 54 °F', 'High: 84 °F', 'Low: 54 °F', 'High: 75 °F', 'Low: 51 °F', 'High: 69 °F', 'Low: 49 °F']\n",
      "['Overnight: Mostly clear, with a low around 50. North wind around 6 mph becoming calm. ', 'Wednesday: Sunny, with a high near 78. Light and variable wind becoming west 10 to 15 mph in the afternoon. Winds could gust as high as 20 mph. ', 'Wednesday Night: Clear, with a low around 54. West wind 11 to 16 mph becoming light and variable  in the evening. Winds could gust as high as 21 mph. ', 'Thursday: Sunny, with a high near 84. North wind 3 to 6 mph. ', 'Thursday Night: Mostly clear, with a low around 54. West southwest wind 5 to 14 mph, with gusts as high as 18 mph. ', 'Friday: Mostly sunny, with a high near 75.', 'Friday Night: Mostly clear, with a low around 51.', 'Saturday: Sunny, with a high near 69.', 'Saturday Night: Clear, with a low around 49.']\n"
     ]
    }
   ],
   "source": [
    "short_descs = [sd.get_text() for sd in seven_day.select(\".tombstone-container .short-desc\")]\n",
    "temps = [t.get_text() for t in seven_day.select(\".tombstone-container .temp\")]\n",
    "descs = [d[\"title\"] for d in seven_day.select(\".tombstone-container img\")]\n",
    "print(short_descs)\n",
    "print(temps)\n",
    "print(descs)"
   ]
  },
  {
   "cell_type": "markdown",
   "metadata": {},
   "source": [
    "모든 데이터를 Pandas Dataframe으로 합치기"
   ]
  },
  {
   "cell_type": "code",
   "execution_count": 16,
   "metadata": {},
   "outputs": [
    {
     "data": {
      "text/html": [
       "<div>\n",
       "<style scoped>\n",
       "    .dataframe tbody tr th:only-of-type {\n",
       "        vertical-align: middle;\n",
       "    }\n",
       "\n",
       "    .dataframe tbody tr th {\n",
       "        vertical-align: top;\n",
       "    }\n",
       "\n",
       "    .dataframe thead th {\n",
       "        text-align: right;\n",
       "    }\n",
       "</style>\n",
       "<table border=\"1\" class=\"dataframe\">\n",
       "  <thead>\n",
       "    <tr style=\"text-align: right;\">\n",
       "      <th></th>\n",
       "      <th>period</th>\n",
       "      <th>short_desc</th>\n",
       "      <th>temp</th>\n",
       "      <th>desc</th>\n",
       "    </tr>\n",
       "  </thead>\n",
       "  <tbody>\n",
       "    <tr>\n",
       "      <th>0</th>\n",
       "      <td>Overnight</td>\n",
       "      <td>Mostly Clear</td>\n",
       "      <td>Low: 50 °F</td>\n",
       "      <td>Overnight: Mostly clear, with a low around 50....</td>\n",
       "    </tr>\n",
       "    <tr>\n",
       "      <th>1</th>\n",
       "      <td>Wednesday</td>\n",
       "      <td>Sunny</td>\n",
       "      <td>High: 78 °F</td>\n",
       "      <td>Wednesday: Sunny, with a high near 78. Light a...</td>\n",
       "    </tr>\n",
       "    <tr>\n",
       "      <th>2</th>\n",
       "      <td>WednesdayNight</td>\n",
       "      <td>Clear</td>\n",
       "      <td>Low: 54 °F</td>\n",
       "      <td>Wednesday Night: Clear, with a low around 54. ...</td>\n",
       "    </tr>\n",
       "    <tr>\n",
       "      <th>3</th>\n",
       "      <td>Thursday</td>\n",
       "      <td>Sunny</td>\n",
       "      <td>High: 84 °F</td>\n",
       "      <td>Thursday: Sunny, with a high near 84. North wi...</td>\n",
       "    </tr>\n",
       "    <tr>\n",
       "      <th>4</th>\n",
       "      <td>ThursdayNight</td>\n",
       "      <td>Mostly Clear</td>\n",
       "      <td>Low: 54 °F</td>\n",
       "      <td>Thursday Night: Mostly clear, with a low aroun...</td>\n",
       "    </tr>\n",
       "    <tr>\n",
       "      <th>5</th>\n",
       "      <td>Friday</td>\n",
       "      <td>Mostly Sunny</td>\n",
       "      <td>High: 75 °F</td>\n",
       "      <td>Friday: Mostly sunny, with a high near 75.</td>\n",
       "    </tr>\n",
       "    <tr>\n",
       "      <th>6</th>\n",
       "      <td>FridayNight</td>\n",
       "      <td>Mostly Clear</td>\n",
       "      <td>Low: 51 °F</td>\n",
       "      <td>Friday Night: Mostly clear, with a low around 51.</td>\n",
       "    </tr>\n",
       "    <tr>\n",
       "      <th>7</th>\n",
       "      <td>Saturday</td>\n",
       "      <td>Sunny</td>\n",
       "      <td>High: 69 °F</td>\n",
       "      <td>Saturday: Sunny, with a high near 69.</td>\n",
       "    </tr>\n",
       "    <tr>\n",
       "      <th>8</th>\n",
       "      <td>SaturdayNight</td>\n",
       "      <td>Clear</td>\n",
       "      <td>Low: 49 °F</td>\n",
       "      <td>Saturday Night: Clear, with a low around 49.</td>\n",
       "    </tr>\n",
       "  </tbody>\n",
       "</table>\n",
       "</div>"
      ],
      "text/plain": [
       "           period    short_desc         temp  \\\n",
       "0       Overnight  Mostly Clear   Low: 50 °F   \n",
       "1       Wednesday         Sunny  High: 78 °F   \n",
       "2  WednesdayNight         Clear   Low: 54 °F   \n",
       "3        Thursday         Sunny  High: 84 °F   \n",
       "4   ThursdayNight  Mostly Clear   Low: 54 °F   \n",
       "5          Friday  Mostly Sunny  High: 75 °F   \n",
       "6     FridayNight  Mostly Clear   Low: 51 °F   \n",
       "7        Saturday         Sunny  High: 69 °F   \n",
       "8   SaturdayNight         Clear   Low: 49 °F   \n",
       "\n",
       "                                                desc  \n",
       "0  Overnight: Mostly clear, with a low around 50....  \n",
       "1  Wednesday: Sunny, with a high near 78. Light a...  \n",
       "2  Wednesday Night: Clear, with a low around 54. ...  \n",
       "3  Thursday: Sunny, with a high near 84. North wi...  \n",
       "4  Thursday Night: Mostly clear, with a low aroun...  \n",
       "5         Friday: Mostly sunny, with a high near 75.  \n",
       "6  Friday Night: Mostly clear, with a low around 51.  \n",
       "7              Saturday: Sunny, with a high near 69.  \n",
       "8       Saturday Night: Clear, with a low around 49.  "
      ]
     },
     "execution_count": 16,
     "metadata": {},
     "output_type": "execute_result"
    }
   ],
   "source": [
    "import pandas as pd\n",
    "weather = pd.DataFrame({\n",
    "    \"period\": periods,\n",
    "    \"short_desc\": short_descs,\n",
    "    \"temp\": temps,\n",
    "    \"desc\":descs\n",
    "})\n",
    "weather"
   ]
  },
  {
   "cell_type": "code",
   "execution_count": 19,
   "metadata": {},
   "outputs": [
    {
     "data": {
      "text/plain": [
       "0    50\n",
       "1    78\n",
       "2    54\n",
       "3    84\n",
       "4    54\n",
       "5    75\n",
       "6    51\n",
       "7    69\n",
       "8    49\n",
       "Name: digit, dtype: object"
      ]
     },
     "execution_count": 19,
     "metadata": {},
     "output_type": "execute_result"
    }
   ],
   "source": [
    "temp_nums = weather[\"temp\"].str.extract(r'(?P<digit>\\d+)', expand=False)\n",
    "weather[\"temp_num\"] = temp_nums.astype('int')\n",
    "temp_nums"
   ]
  },
  {
   "cell_type": "code",
   "execution_count": 21,
   "metadata": {},
   "outputs": [
    {
     "data": {
      "text/plain": [
       "62.666666666666664"
      ]
     },
     "execution_count": 21,
     "metadata": {},
     "output_type": "execute_result"
    }
   ],
   "source": [
    "weather[\"temp_num\"].mean()"
   ]
  },
  {
   "cell_type": "code",
   "execution_count": 23,
   "metadata": {},
   "outputs": [
    {
     "data": {
      "text/plain": [
       "0     True\n",
       "1    False\n",
       "2     True\n",
       "3    False\n",
       "4     True\n",
       "5    False\n",
       "6     True\n",
       "7    False\n",
       "8     True\n",
       "Name: temp, dtype: bool"
      ]
     },
     "execution_count": 23,
     "metadata": {},
     "output_type": "execute_result"
    }
   ],
   "source": [
    "is_night = weather[\"temp\"].str.contains(\"Low\")\n",
    "weather[\"is_night\"] = is_night\n",
    "is_night"
   ]
  },
  {
   "cell_type": "code",
   "execution_count": 24,
   "metadata": {},
   "outputs": [
    {
     "data": {
      "text/html": [
       "<div>\n",
       "<style scoped>\n",
       "    .dataframe tbody tr th:only-of-type {\n",
       "        vertical-align: middle;\n",
       "    }\n",
       "\n",
       "    .dataframe tbody tr th {\n",
       "        vertical-align: top;\n",
       "    }\n",
       "\n",
       "    .dataframe thead th {\n",
       "        text-align: right;\n",
       "    }\n",
       "</style>\n",
       "<table border=\"1\" class=\"dataframe\">\n",
       "  <thead>\n",
       "    <tr style=\"text-align: right;\">\n",
       "      <th></th>\n",
       "      <th>period</th>\n",
       "      <th>short_desc</th>\n",
       "      <th>temp</th>\n",
       "      <th>desc</th>\n",
       "      <th>temp_num</th>\n",
       "      <th>is_night</th>\n",
       "    </tr>\n",
       "  </thead>\n",
       "  <tbody>\n",
       "    <tr>\n",
       "      <th>0</th>\n",
       "      <td>Overnight</td>\n",
       "      <td>Mostly Clear</td>\n",
       "      <td>Low: 50 °F</td>\n",
       "      <td>Overnight: Mostly clear, with a low around 50....</td>\n",
       "      <td>50</td>\n",
       "      <td>True</td>\n",
       "    </tr>\n",
       "    <tr>\n",
       "      <th>2</th>\n",
       "      <td>WednesdayNight</td>\n",
       "      <td>Clear</td>\n",
       "      <td>Low: 54 °F</td>\n",
       "      <td>Wednesday Night: Clear, with a low around 54. ...</td>\n",
       "      <td>54</td>\n",
       "      <td>True</td>\n",
       "    </tr>\n",
       "    <tr>\n",
       "      <th>4</th>\n",
       "      <td>ThursdayNight</td>\n",
       "      <td>Mostly Clear</td>\n",
       "      <td>Low: 54 °F</td>\n",
       "      <td>Thursday Night: Mostly clear, with a low aroun...</td>\n",
       "      <td>54</td>\n",
       "      <td>True</td>\n",
       "    </tr>\n",
       "    <tr>\n",
       "      <th>6</th>\n",
       "      <td>FridayNight</td>\n",
       "      <td>Mostly Clear</td>\n",
       "      <td>Low: 51 °F</td>\n",
       "      <td>Friday Night: Mostly clear, with a low around 51.</td>\n",
       "      <td>51</td>\n",
       "      <td>True</td>\n",
       "    </tr>\n",
       "    <tr>\n",
       "      <th>8</th>\n",
       "      <td>SaturdayNight</td>\n",
       "      <td>Clear</td>\n",
       "      <td>Low: 49 °F</td>\n",
       "      <td>Saturday Night: Clear, with a low around 49.</td>\n",
       "      <td>49</td>\n",
       "      <td>True</td>\n",
       "    </tr>\n",
       "  </tbody>\n",
       "</table>\n",
       "</div>"
      ],
      "text/plain": [
       "           period    short_desc        temp  \\\n",
       "0       Overnight  Mostly Clear  Low: 50 °F   \n",
       "2  WednesdayNight         Clear  Low: 54 °F   \n",
       "4   ThursdayNight  Mostly Clear  Low: 54 °F   \n",
       "6     FridayNight  Mostly Clear  Low: 51 °F   \n",
       "8   SaturdayNight         Clear  Low: 49 °F   \n",
       "\n",
       "                                                desc  temp_num  is_night  \n",
       "0  Overnight: Mostly clear, with a low around 50....        50      True  \n",
       "2  Wednesday Night: Clear, with a low around 54. ...        54      True  \n",
       "4  Thursday Night: Mostly clear, with a low aroun...        54      True  \n",
       "6  Friday Night: Mostly clear, with a low around 51.        51      True  \n",
       "8       Saturday Night: Clear, with a low around 49.        49      True  "
      ]
     },
     "execution_count": 24,
     "metadata": {},
     "output_type": "execute_result"
    }
   ],
   "source": [
    "weather[is_night]"
   ]
  }
 ],
 "metadata": {
  "interpreter": {
   "hash": "d3a4b417ad6800d70ee7d6aa445b095c17f2304e39f39035c8bb0c9503732758"
  },
  "kernelspec": {
   "display_name": "Python 3.8.12 ('py38')",
   "language": "python",
   "name": "python3"
  },
  "language_info": {
   "codemirror_mode": {
    "name": "ipython",
    "version": 3
   },
   "file_extension": ".py",
   "mimetype": "text/x-python",
   "name": "python",
   "nbconvert_exporter": "python",
   "pygments_lexer": "ipython3",
   "version": "3.8.12"
  },
  "orig_nbformat": 4
 },
 "nbformat": 4,
 "nbformat_minor": 2
}
